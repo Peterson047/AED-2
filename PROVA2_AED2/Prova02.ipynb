{
 "cells": [
  {
   "cell_type": "code",
   "execution_count": 8,
   "id": "e0399679-31b8-4c39-aa8f-d1679112e5f8",
   "metadata": {},
   "outputs": [
    {
     "name": "stdout",
     "output_type": "stream",
     "text": [
      "lista original: [29, 10, 12381, 14, 37, 13, 88, 99, 135]\n",
      "lista ordenada: [10, 13, 14, 29, 37, 88, 99, 135, 12381]\n",
      "O maior elemento da lista ordenada é: 12381\n"
     ]
    }
   ],
   "source": [
    "def selection_sort(arr):\n",
    "    for i in range(len(arr)):\n",
    "        min_idx = i\n",
    "        for j in range(i + 1, len(arr)):\n",
    "            if arr[j] < arr[min_idx]:\n",
    "                min_idx = j\n",
    "        arr[i], arr[min_idx] = arr[min_idx], arr[i]\n",
    "    return arr\n",
    "\n",
    "\n",
    "#método solicitado para criar e exibir o maior elemento da lista ordenada\n",
    "def find_max(arr):\n",
    "    print(\"O maior elemento da lista ordenada é:\", arr[-1])\n",
    "\n",
    "lista = [29, 10, 12381, 14, 37, 13,88,99,135]\n",
    "print(\"lista original:\", lista)\n",
    "\n",
    "\n",
    "lista_ordenada = selection_sort(lista)\n",
    "print(\"lista ordenada:\", lista_ordenada)\n",
    "\n",
    "\n",
    "find_max(lista_ordenada)\n"
   ]
  },
  {
   "cell_type": "code",
   "execution_count": null,
   "id": "7bb4b910-8814-4030-bc29-ebeef5d7ecc0",
   "metadata": {},
   "outputs": [],
   "source": []
  },
  {
   "cell_type": "code",
   "execution_count": null,
   "id": "b1a71595-7b92-4a87-bae2-36db8e5881e4",
   "metadata": {},
   "outputs": [],
   "source": []
  }
 ],
 "metadata": {
  "kernelspec": {
   "display_name": "Python 3 (ipykernel)",
   "language": "python",
   "name": "python3"
  },
  "language_info": {
   "codemirror_mode": {
    "name": "ipython",
    "version": 3
   },
   "file_extension": ".py",
   "mimetype": "text/x-python",
   "name": "python",
   "nbconvert_exporter": "python",
   "pygments_lexer": "ipython3",
   "version": "3.12.4"
  }
 },
 "nbformat": 4,
 "nbformat_minor": 5
}
